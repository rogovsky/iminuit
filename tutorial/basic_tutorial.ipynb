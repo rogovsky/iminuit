{
  "cells": [
    {
      "cell_type": "markdown",
      "source": [
        "# Tutorial\n",
        "\n",
        "Welcome to the **iminuit tutorial**. You will learn basic usage of iminuit and how to approach standard fitting problems with iminuit. iminuit is a numerical minimizer and error calculator. You provide it an analytical function, which accepts one or several parameters, and an initial guess of the parameter values. It will then find a local minimum of this function starting from the initial guess. In that regard, iminuit is similar to other minimizers, like those in scipy.optimize.\n",
        "\n",
        "In addition, iminuit has the ability to compute **uncertainty estimates** for model parameters. iminuit was designed to solve statistics problems, where uncertainty estimates are an essential part of the result. Two ways of computing uncertainty estimates are provided with different strengths, the *Hesse* and the *Minos* algorithm.\n",
        "\niminuit is the successor of pyminuit. If you used pyminuit before, you will find iminuit very familiar. An important feature of iminuit (and pyminuit) is that it uses introspection to detect the parameter names of your function. This is very convenient, especially when you work interactively in a Jupyter notebook. It also provides special output routines for Jupyter notebooks to pretty print the fit results, as you will see below."
      ],
      "metadata": {}
    },
    {
      "cell_type": "code",
      "source": [
        "# basic setup of the notebook\n",
        "%pylab inline\n",
        "from pprint import pprint # we use this to pretty print some stuff later"
      ],
      "outputs": [
        {
          "output_type": "stream",
          "name": "stdout",
          "text": [
            "Populating the interactive namespace from numpy and matplotlib\n"
          ]
        }
      ],
      "execution_count": 1,
      "metadata": {}
    },
    {
      "cell_type": "markdown",
      "source": [
        "## Fit example\n",
        "\nFor this tutorial, we look at a simple case where line should be fitted to scattered $(x, y)$ data. A line has two parameters $(a, b)$."
      ],
      "metadata": {}
    },
    {
      "cell_type": "code",
      "source": [
        "def line(x, a, b):\n",
        "    return a + x * b\n",
        "\n",
        "data_x = linspace(0, 1, 10)\n",
        "# precomputed random numbers from a normal distribution\n",
        "offsets = array([-0.49783783, -0.33041722, -1.71800806,  1.60229399,  1.36682387,\n",
        "                 -1.15424221, -0.91425267, -0.03395604, -1.27611719, -0.7004073 ])\n",
        "data_y = line(data_x, 1, 2) + 0.1 * offsets # generate some data points with random offsets\n",
        "plot(data_x, data_y, \"o\")\n",
        "xlim(-0.1, 1.1);"
      ],
      "outputs": [
        {
          "output_type": "display_data",
          "data": {
            "text/plain": [
              "<Figure size 432x288 with 1 Axes>"
            ],
            "image/png": "[encoded data removed]"
          },
          "metadata": {
            "needs_background": "light"
          }
        }
      ],
      "execution_count": 2,
      "metadata": {}
    },
    {
      "cell_type": "markdown",
      "source": [
        "To recovert the parameters of the line, we fit the line to the scattered data using the method of least-squares. We compute the sum of squared residuals of the $y$ values around the line for a given pair of line parameters $(a, b)$."
      ],
      "metadata": {}
    },
    {
      "cell_type": "code",
      "source": [
        "def least_squares(a, b):\n",
        "    yvar = 0.01\n",
        "    return sum((data_y - line(data_x, a, b)) ** 2 / yvar)"
      ],
      "outputs": [],
      "execution_count": 3,
      "metadata": {}
    },
    {
      "cell_type": "markdown",
      "source": [
        "With iminuit we can find the values of $a$ and $b$ which minimize this sum.\n",
        "\n",
        "iminuit was designed to make it easy to fit functions like `least_squares(a, b)`, where the parameters are individual arguments of the function.\n",
        "\nThere is an alternative function signature that Minuit supports, which is more convenient when you work a lot with numpy. Here, the parameters are passed as a numpy array. The two kinds of function definitions have each pros and cons. We will first show how to work with functions of the first kind and come back to the second kind later. If you are interested only in the second kind, skip to the section **Alternative: Numpy functions**"
      ],
      "metadata": {}
    },
    {
      "cell_type": "markdown",
      "source": [
        "## Initialize Minuit\n",
        "\nTo minimize a function, you create an instance of the Minuit class and pass the function to it. This does not start the minimization yet, this will come later. iminuit uses introspection to get the number and names of the function parameters automatically."
      ],
      "metadata": {}
    },
    {
      "cell_type": "code",
      "source": [
        "# everything in iminuit is done through the Minuit object, so we import it\n",
        "from iminuit import Minuit"
      ],
      "outputs": [],
      "execution_count": 4,
      "metadata": {}
    },
    {
      "cell_type": "code",
      "source": [
        "m = Minuit(least_squares) # we create an instance of Minuit and pass the function to minimize"
      ],
      "outputs": [
        {
          "output_type": "stream",
          "name": "stderr",
          "text": [
            "/Users/hdembins/Library/Python/3.7/lib/python/site-packages/ipykernel_launcher.py:1: InitialParamWarning: Parameter a does not have initial value. Assume 0.\n",
            "  \"\"\"Entry point for launching an IPython kernel.\n",
            "/Users/hdembins/Library/Python/3.7/lib/python/site-packages/ipykernel_launcher.py:1: InitialParamWarning: Parameter a is floating but does not have initial step size. Assume 1.\n",
            "  \"\"\"Entry point for launching an IPython kernel.\n",
            "/Users/hdembins/Library/Python/3.7/lib/python/site-packages/ipykernel_launcher.py:1: InitialParamWarning: Parameter b does not have initial value. Assume 0.\n",
            "  \"\"\"Entry point for launching an IPython kernel.\n",
            "/Users/hdembins/Library/Python/3.7/lib/python/site-packages/ipykernel_launcher.py:1: InitialParamWarning: Parameter b is floating but does not have initial step size. Assume 1.\n",
            "  \"\"\"Entry point for launching an IPython kernel.\n",
            "/Users/hdembins/Library/Python/3.7/lib/python/site-packages/ipykernel_launcher.py:1: InitialParamWarning: errordef is not given. Default to 1.\n",
            "  \"\"\"Entry point for launching an IPython kernel.\n"
          ]
        }
      ],
      "execution_count": 5,
      "metadata": {}
    },
    {
      "cell_type": "markdown",
      "source": [
        "Woah, lots of warnings, we will go through them step-by-step. Note how iminuit refers to your parameters by correct names in the warnings. The filename and line numbers shown in the warnings are bogus in Jupyter notebooks, but refer to the correct file and line when you use iminuit in a script or in the terminal shell.\n",
        "\n",
        "### Initial parameter values\n",
        "\n",
        "iminuit is a local minimizer. It searches for a local minimum by gradient-descent method from a starting point. If your function has several minima, the minimum found will depend on the starting point. Even if it has only one minimum, iminuit will converge to it faster if you start in the proximity of the minimum. If you don't provide a starting value for a parameter, it uses 0. You almost always want to specify a starting point.\n",
        "\nYou can set the starting point using the parameter names as keywords, `<name> = <value>`."
      ],
      "metadata": {}
    },
    {
      "cell_type": "code",
      "source": [
        "m = Minuit(least_squares, a=5, b=5) # pass starting values for a and b"
      ],
      "outputs": [
        {
          "output_type": "stream",
          "name": "stderr",
          "text": [
            "/Users/hdembins/Library/Python/3.7/lib/python/site-packages/ipykernel_launcher.py:1: InitialParamWarning: Parameter a is floating but does not have initial step size. Assume 1.\n",
            "  \"\"\"Entry point for launching an IPython kernel.\n",
            "/Users/hdembins/Library/Python/3.7/lib/python/site-packages/ipykernel_launcher.py:1: InitialParamWarning: Parameter b is floating but does not have initial step size. Assume 1.\n",
            "  \"\"\"Entry point for launching an IPython kernel.\n",
            "/Users/hdembins/Library/Python/3.7/lib/python/site-packages/ipykernel_launcher.py:1: InitialParamWarning: errordef is not given. Default to 1.\n",
            "  \"\"\"Entry point for launching an IPython kernel.\n"
          ]
        }
      ],
      "execution_count": 6,
      "metadata": {}
    },
    {
      "cell_type": "markdown",
      "source": [
        "### Initial step sizes\n",
        "\n",
        "iminuit further wants initial step sizes. iminuit uses a gradient-descent method to find the minimum and the gradient is computed numerically using finite differences. The initial step size is used to compute the first gradient. If you don't provide a value, it uses 1. A good step size is small compared to the curvature of the function, but large compared to numerical resolution.\n",
        "\n",
        "You can set initital step sizes with keywords, `error_<name> = <step size>`. If you don't know what to pick, don't worry too much. Usually, the choice is not important. In the worst case, iminuit will use a few more function evaluations to find the minimum. A good guess is a fraction of the initial fit parameter value, e.g. 10 % (be careful when applying this rule-of-thumb when your the initial parameter value is zero).\n",
        "\n",
        "Using an appropriate step size is important when you have you a parameter which has physical bounds. Varying the initial parameter value by the step size may not create a situation where the parameter goes outside of its bounds. For example, a parameter $x$ with $x > 0$ and initital value $0.1$ may not have a step size of $0.2$. If you follow the recommendation of using 10 % of the initial value, you never run into this problem.\n",
        "\nIn our example, we use an initital step size of $\\Delta a = \\Delta b = 0.1$."
      ],
      "metadata": {}
    },
    {
      "cell_type": "code",
      "source": [
        "m = Minuit(least_squares, a=5, b=5, error_a=0.1, error_b=0.1)"
      ],
      "outputs": [
        {
          "output_type": "stream",
          "name": "stderr",
          "text": [
            "/Users/hdembins/Library/Python/3.7/lib/python/site-packages/ipykernel_launcher.py:1: InitialParamWarning: errordef is not given. Default to 1.\n",
            "  \"\"\"Entry point for launching an IPython kernel.\n"
          ]
        }
      ],
      "execution_count": 7,
      "metadata": {}
    },
    {
      "cell_type": "markdown",
      "source": [
        "### Error definition\n",
        "\n",
        "Only one warning left. Minuit asks you to explicitly provide a value for the error definition with the `errordef` keyword. This is needed to get correct uncertainty estimates for your parameters. In statistical problems, there are two kinds of functions to minimize, the *negative log-likelihood* and the *least-squares* function. Each has a corresponding value for `errordef`:\n",
        " - `errordef = 0.5` for negative log-likelihood functions\n",
        " - `errordef = 1` for least-squares functions\n",
        "\n",
        "The origin of these numbers cannot be explained briefly, so if you are curious, we suggest a statistics book for physicists, e.g. G. Cowan, \"Statistical Data Analysis\", Oxford Science Publications.\n",
        "\n",
        "If you don't care about uncertainty estimates, pass `errordef=1` (although you are probably here exactly because iminuit computes uncertainty estimates).\n",
        "\nFor our example, we need to pass `errordef=1`, because we are minimizing a least-squares function."
      ],
      "metadata": {}
    },
    {
      "cell_type": "code",
      "source": [
        "m = Minuit(least_squares, a=5, b=5, error_a=0.1, error_b=0.1, errordef=1)"
      ],
      "outputs": [],
      "execution_count": 8,
      "metadata": {}
    },
    {
      "cell_type": "markdown",
      "source": [
        "Now iminuit is happy, all optional information is provided. If you want to quickly minimize a function and you know that the defaults are ok, you can also explicitly silence all warnings, like so:"
      ],
      "metadata": {}
    },
    {
      "cell_type": "code",
      "source": [
        "m = Minuit(least_squares, pedantic=False)  # silence warnings, use default values"
      ],
      "outputs": [],
      "execution_count": 9,
      "metadata": {}
    },
    {
      "cell_type": "markdown",
      "source": [
        "You can always check the current parameter settings with the method `Minuit.get_param_states()`."
      ],
      "metadata": {}
    },
    {
      "cell_type": "code",
      "source": [
        "m.get_param_states()"
      ],
      "outputs": [
        {
          "output_type": "execute_result",
          "execution_count": 10,
          "data": {
            "text/plain": [
              "[Param(index=0, name='a', value=0.0, error=1.0, is_const=False, is_fixed=False, has_limits=False, has_lower_limit=False, has_upper_limit=False, lower_limit=None, upper_limit=None),\n",
              " Param(index=1, name='b', value=0.0, error=1.0, is_const=False, is_fixed=False, has_limits=False, has_lower_limit=False, has_upper_limit=False, lower_limit=None, upper_limit=None)]"
            ],
            "text/html": [
              "<table>\n",
              "<tr style=\"background-color:#F4F4F4;\">\n",
              "<td/>\n",
              "<th title=\"Variable name\">\n",
              "Name\n",
              "</th>\n",
              "<th title=\"Value of parameter\">\n",
              "Value\n",
              "</th>\n",
              "<th title=\"Hesse error\">\n",
              "Hesse Error\n",
              "</th>\n",
              "<th title=\"Minos lower error\">\n",
              "Minos Error-\n",
              "</th>\n",
              "<th title=\"Minos upper error\">\n",
              "Minos Error+\n",
              "</th>\n",
              "<th title=\"Lower limit of the parameter\">\n",
              "Limit-\n",
              "</th>\n",
              "<th title=\"Upper limit of the parameter\">\n",
              "Limit+\n",
              "</th>\n",
              "<th title=\"Is the parameter fixed in the fit\">\n",
              "Fixed\n",
              "</th>\n",
              "</tr>\n",
              "<tr style=\"background-color:#FFFFFF;\">\n",
              "<td>\n",
              "0\n",
              "</td>\n",
              "<td>\n",
              "a\n",
              "</td>\n",
              "<td>\n",
              "0.0\n",
              "</td>\n",
              "<td>\n",
              "1.0\n",
              "</td>\n",
              "<td>\n",
              "\n",
              "</td>\n",
              "<td>\n",
              "\n",
              "</td>\n",
              "<td>\n",
              "\n",
              "</td>\n",
              "<td>\n",
              "\n",
              "</td>\n",
              "<td>\n",
              "\n",
              "</td>\n",
              "</tr>\n",
              "<tr style=\"background-color:#F4F4F4;\">\n",
              "<td>\n",
              "1\n",
              "</td>\n",
              "<td>\n",
              "b\n",
              "</td>\n",
              "<td>\n",
              "0.0\n",
              "</td>\n",
              "<td>\n",
              "1.0\n",
              "</td>\n",
              "<td>\n",
              "\n",
              "</td>\n",
              "<td>\n",
              "\n",
              "</td>\n",
              "<td>\n",
              "\n",
              "</td>\n",
              "<td>\n",
              "\n",
              "</td>\n",
              "<td>\n",
              "\n",
              "</td>\n",
              "</tr>\n",
              "</table>\n"
            ]
          },
          "metadata": {}
        }
      ],
      "execution_count": 10,
      "metadata": {}
    },
    {
      "cell_type": "markdown",
      "source": [
        "As you can see, this produces a nice table. The table will be updated once you run the actual minimization. To look at the initital conditions later, use `Minuit.get_initial_param_states()`. We will come back to the meaning of *Hesse Error* and *Minos Error*, when we discuss the actual minimization.\n",
        "\n",
        "Before we do that, let's see what else we can specify in the initialization.\n",
        "\n",
        "### Parameters with limits\n",
        "\n",
        "iminuit allows you to set parameter limits. Often a parameter is limited mathematically or physically to a certain range. For example, if your function contains `sqrt(x)`, then $x$ must be non-negative, $x \\ge 0$. You can set upper-, lower-, or two-sided limits for each parameter individually with keywords `limit_<name>`:\n",
        "\n",
        "- lower limit: use `limit_<name> = (<value>, None)` or `(<value>, float(\"infinity\"))`\n",
        "- upper limit: use `limit_<name> = (None, <value>)` or `(-float(\"infinity\"), <value>)`\n",
        "- two-sided limit: use `limit_<name> = (<min_value>, <max_value>)`\n",
        "\nTo impose the limits $a \\ge 0$ and $0 \\le b \\le 10$ in our example, you do:"
      ],
      "metadata": {}
    },
    {
      "cell_type": "code",
      "source": [
        "m = Minuit(least_squares, a=5, b=5,\n",
        "           error_a=0.1, error_b=0.1,\n",
        "           limit_a=(0, None), limit_b=(0, 10),\n",
        "           errordef=1)\n",
        "m.get_param_states()"
      ],
      "outputs": [
        {
          "output_type": "execute_result",
          "execution_count": 11,
          "data": {
            "text/plain": [
              "[Param(index=0, name='a', value=5.0, error=0.1, is_const=False, is_fixed=False, has_limits=True, has_lower_limit=True, has_upper_limit=False, lower_limit=0.0, upper_limit=None),\n",
              " Param(index=1, name='b', value=5.0, error=0.1, is_const=False, is_fixed=False, has_limits=True, has_lower_limit=True, has_upper_limit=True, lower_limit=0.0, upper_limit=10.0)]"
            ],
            "text/html": [
              "<table>\n",
              "<tr style=\"background-color:#F4F4F4;\">\n",
              "<td/>\n",
              "<th title=\"Variable name\">\n",
              "Name\n",
              "</th>\n",
              "<th title=\"Value of parameter\">\n",
              "Value\n",
              "</th>\n",
              "<th title=\"Hesse error\">\n",
              "Hesse Error\n",
              "</th>\n",
              "<th title=\"Minos lower error\">\n",
              "Minos Error-\n",
              "</th>\n",
              "<th title=\"Minos upper error\">\n",
              "Minos Error+\n",
              "</th>\n",
              "<th title=\"Lower limit of the parameter\">\n",
              "Limit-\n",
              "</th>\n",
              "<th title=\"Upper limit of the parameter\">\n",
              "Limit+\n",
              "</th>\n",
              "<th title=\"Is the parameter fixed in the fit\">\n",
              "Fixed\n",
              "</th>\n",
              "</tr>\n",
              "<tr style=\"background-color:#FFFFFF;\">\n",
              "<td>\n",
              "0\n",
              "</td>\n",
              "<td>\n",
              "a\n",
              "</td>\n",
              "<td>\n",
              "5.00\n",
              "</td>\n",
              "<td>\n",
              "0.10\n",
              "</td>\n",
              "<td>\n",
              "\n",
              "</td>\n",
              "<td>\n",
              "\n",
              "</td>\n",
              "<td>\n",
              "0\n",
              "</td>\n",
              "<td>\n",
              "\n",
              "</td>\n",
              "<td>\n",
              "\n",
              "</td>\n",
              "</tr>\n",
              "<tr style=\"background-color:#F4F4F4;\">\n",
              "<td>\n",
              "1\n",
              "</td>\n",
              "<td>\n",
              "b\n",
              "</td>\n",
              "<td>\n",
              "5.00\n",
              "</td>\n",
              "<td>\n",
              "0.10\n",
              "</td>\n",
              "<td>\n",
              "\n",
              "</td>\n",
              "<td>\n",
              "\n",
              "</td>\n",
              "<td>\n",
              "0\n",
              "</td>\n",
              "<td>\n",
              "10\n",
              "</td>\n",
              "<td>\n",
              "\n",
              "</td>\n",
              "</tr>\n",
              "</table>\n"
            ]
          },
          "metadata": {}
        }
      ],
      "execution_count": 11,
      "metadata": {}
    },
    {
      "cell_type": "markdown",
      "source": [
        "### (Initially) Fixed parameters\n",
        "\n",
        "Sometimes you have a parameter which you want to set to a fixed value temporarily. Perhaps you have a guess for its value, and you want to see how the other parameters adapt when this parameter is fixed to that value.\n",
        "\n",
        "Or you have a complex function with many parameters that do not all affect the function at the same scale. Then you can manually help the minimizer to find the minimum faster by first fixing the less important parameters to initial guesses and fit only the important parameters. Once the minimum is found under these conditions, you can release the fixed parameters and optimize all parameters together. Minuit remembers the last state of the minimization and starts from there. The minimization time roughly scales with the square of the number of parameters. Iterated minimization over subspaces of the parameters can reduce that time.\n",
        "\nTo fix an individual parameter, you use the keyword `fix_<name> = True`. In our example, we fix $x$, like so:"
      ],
      "metadata": {}
    },
    {
      "cell_type": "code",
      "source": [
        "m = Minuit(least_squares, a=5, b=5, fix_a=True,\n",
        "           error_a=0.1, error_b=0.1,\n",
        "           errordef=1)\n",
        "m.get_param_states()"
      ],
      "outputs": [
        {
          "output_type": "execute_result",
          "execution_count": 12,
          "data": {
            "text/plain": [
              "[Param(index=0, name='a', value=5.0, error=0.1, is_const=False, is_fixed=True, has_limits=False, has_lower_limit=False, has_upper_limit=False, lower_limit=None, upper_limit=None),\n",
              " Param(index=1, name='b', value=5.0, error=0.1, is_const=False, is_fixed=False, has_limits=False, has_lower_limit=False, has_upper_limit=False, lower_limit=None, upper_limit=None)]"
            ],
            "text/html": [
              "<table>\n",
              "<tr style=\"background-color:#F4F4F4;\">\n",
              "<td/>\n",
              "<th title=\"Variable name\">\n",
              "Name\n",
              "</th>\n",
              "<th title=\"Value of parameter\">\n",
              "Value\n",
              "</th>\n",
              "<th title=\"Hesse error\">\n",
              "Hesse Error\n",
              "</th>\n",
              "<th title=\"Minos lower error\">\n",
              "Minos Error-\n",
              "</th>\n",
              "<th title=\"Minos upper error\">\n",
              "Minos Error+\n",
              "</th>\n",
              "<th title=\"Lower limit of the parameter\">\n",
              "Limit-\n",
              "</th>\n",
              "<th title=\"Upper limit of the parameter\">\n",
              "Limit+\n",
              "</th>\n",
              "<th title=\"Is the parameter fixed in the fit\">\n",
              "Fixed\n",
              "</th>\n",
              "</tr>\n",
              "<tr style=\"background-color:#FFFFFF;\">\n",
              "<td>\n",
              "0\n",
              "</td>\n",
              "<td>\n",
              "a\n",
              "</td>\n",
              "<td>\n",
              "5.00\n",
              "</td>\n",
              "<td>\n",
              "0.10\n",
              "</td>\n",
              "<td>\n",
              "\n",
              "</td>\n",
              "<td>\n",
              "\n",
              "</td>\n",
              "<td>\n",
              "\n",
              "</td>\n",
              "<td>\n",
              "\n",
              "</td>\n",
              "<td>\n",
              "yes\n",
              "</td>\n",
              "</tr>\n",
              "<tr style=\"background-color:#F4F4F4;\">\n",
              "<td>\n",
              "1\n",
              "</td>\n",
              "<td>\n",
              "b\n",
              "</td>\n",
              "<td>\n",
              "5.00\n",
              "</td>\n",
              "<td>\n",
              "0.10\n",
              "</td>\n",
              "<td>\n",
              "\n",
              "</td>\n",
              "<td>\n",
              "\n",
              "</td>\n",
              "<td>\n",
              "\n",
              "</td>\n",
              "<td>\n",
              "\n",
              "</td>\n",
              "<td>\n",
              "\n",
              "</td>\n",
              "</tr>\n",
              "</table>\n"
            ]
          },
          "metadata": {}
        }
      ],
      "execution_count": 12,
      "metadata": {}
    },
    {
      "cell_type": "code",
      "source": [
        "# migrad will not vary a, only b\n",
        "m.migrad()"
      ],
      "outputs": [
        {
          "output_type": "execute_result",
          "execution_count": 13,
          "data": {
            "text/plain": [
              "MigradResult(fmin=FMin(fval=4662.9094007925905, edm=6.997483800719733e-14, tolerance=0.1, nfcn=13, ncalls=13, up=1.0, is_valid=True, has_valid_parameters=True, has_accurate_covar=True, has_posdef_covar=True, has_made_posdef_covar=False, hesse_failed=False, has_covariance=True, is_above_max_edm=False, has_reached_call_limit=False), params=[Param(index=0, name='a', value=5.0, error=0.1, is_const=False, is_fixed=True, has_limits=False, has_lower_limit=False, has_upper_limit=False, lower_limit=None, upper_limit=None), Param(index=1, name='b', value=-3.752102998713294, error=0.053311398998998255, is_const=False, is_fixed=False, has_limits=False, has_lower_limit=False, has_upper_limit=False, lower_limit=None, upper_limit=None)])"
            ],
            "text/html": [
              "<table>\n",
              "<tr>\n",
              "<td colspan=\"2\" title=\"Minimum value of function\">\n",
              "FCN = 4663\n",
              "</td>\n",
              "<td align=\"center\" colspan=\"3\" title=\"No. of calls in last algorithm and total number of calls\">\n",
              "Ncalls = 13 (13 total)\n",
              "</td>\n",
              "</tr>\n",
              "<tr>\n",
              "<td colspan=\"2\" title=\"Estimated distance to minimum and target threshold\">\n",
              "EDM = 7E-14 (Goal: 1E-05)\n",
              "</td>\n",
              "<td colspan=\"3\" align=\"center\" title=\"Increase in FCN which corresponds to 1 standard deviation\">\n",
              "up = 1.0\n",
              "</td>\n",
              "</tr>\n",
              "<tr>\n",
              "<td align=\"center\" title=\"Validity of the migrad call\">\n",
              "Valid Min.\n",
              "</td>\n",
              "<td align=\"center\" title=\"Validity of parameters\">\n",
              "Valid Param.\n",
              "</td>\n",
              "<td align=\"center\" title=\"Is EDM above goal EDM?\">\n",
              "Above EDM\n",
              "</td>\n",
              "<td colspan=\"2\" align=\"center\" title=\"Did last migrad call reach max call limit?\">\n",
              "Reached call limit\n",
              "</td>\n",
              "</tr>\n",
              "<tr>\n",
              "<td align=\"center\" style=\"background-color:#92CCA6;\">\n",
              "True\n",
              "</td>\n",
              "<td align=\"center\" style=\"background-color:#92CCA6;\">\n",
              "True\n",
              "</td>\n",
              "<td align=\"center\" style=\"background-color:#92CCA6;\">\n",
              "False\n",
              "</td>\n",
              "<td colspan=\"2\" align=\"center\" style=\"background-color:#92CCA6;\">\n",
              "False\n",
              "</td>\n",
              "</tr>\n",
              "<tr>\n",
              "<td align=\"center\" title=\"Did Hesse fail?\">\n",
              "Hesse failed\n",
              "</td>\n",
              "<td align=\"center\" title=\"Has covariance matrix\">\n",
              "Has cov.\n",
              "</td>\n",
              "<td align=\"center\" title=\"Is covariance matrix accurate?\">\n",
              "Accurate\n",
              "</td>\n",
              "<td align=\"center\" title=\"Is covariance matrix positive definite?\">\n",
              "Pos. def.\n",
              "</td>\n",
              "<td align=\"center\" title=\"Was positive definiteness enforced by Minuit?\">\n",
              "Forced\n",
              "</td>\n",
              "</tr>\n",
              "<tr>\n",
              "<td align=\"center\" style=\"background-color:#92CCA6;\">\n",
              "False\n",
              "</td>\n",
              "<td align=\"center\" style=\"background-color:#92CCA6;\">\n",
              "True\n",
              "</td>\n",
              "<td align=\"center\" style=\"background-color:#92CCA6;\">\n",
              "True\n",
              "</td>\n",
              "<td align=\"center\" style=\"background-color:#92CCA6;\">\n",
              "True\n",
              "</td>\n",
              "<td align=\"center\" style=\"background-color:#92CCA6;\">\n",
              "False\n",
              "</td>\n",
              "</tr>\n",
              "</table>\n",
              "<table>\n",
              "<tr style=\"background-color:#F4F4F4;\">\n",
              "<td/>\n",
              "<th title=\"Variable name\">\n",
              "Name\n",
              "</th>\n",
              "<th title=\"Value of parameter\">\n",
              "Value\n",
              "</th>\n",
              "<th title=\"Hesse error\">\n",
              "Hesse Error\n",
              "</th>\n",
              "<th title=\"Minos lower error\">\n",
              "Minos Error-\n",
              "</th>\n",
              "<th title=\"Minos upper error\">\n",
              "Minos Error+\n",
              "</th>\n",
              "<th title=\"Lower limit of the parameter\">\n",
              "Limit-\n",
              "</th>\n",
              "<th title=\"Upper limit of the parameter\">\n",
              "Limit+\n",
              "</th>\n",
              "<th title=\"Is the parameter fixed in the fit\">\n",
              "Fixed\n",
              "</th>\n",
              "</tr>\n",
              "<tr style=\"background-color:#FFFFFF;\">\n",
              "<td>\n",
              "0\n",
              "</td>\n",
              "<td>\n",
              "a\n",
              "</td>\n",
              "<td>\n",
              "5.00\n",
              "</td>\n",
              "<td>\n",
              "0.10\n",
              "</td>\n",
              "<td>\n",
              "\n",
              "</td>\n",
              "<td>\n",
              "\n",
              "</td>\n",
              "<td>\n",
              "\n",
              "</td>\n",
              "<td>\n",
              "\n",
              "</td>\n",
              "<td>\n",
              "yes\n",
              "</td>\n",
              "</tr>\n",
              "<tr style=\"background-color:#F4F4F4;\">\n",
              "<td>\n",
              "1\n",
              "</td>\n",
              "<td>\n",
              "b\n",
              "</td>\n",
              "<td>\n",
              "-3.75\n",
              "</td>\n",
              "<td>\n",
              "0.05\n",
              "</td>\n",
              "<td>\n",
              "\n",
              "</td>\n",
              "<td>\n",
              "\n",
              "</td>\n",
              "<td>\n",
              "\n",
              "</td>\n",
              "<td>\n",
              "\n",
              "</td>\n",
              "<td>\n",
              "\n",
              "</td>\n",
              "</tr>\n",
              "</table>\n"
            ]
          },
          "metadata": {}
        }
      ],
      "execution_count": 13,
      "metadata": {
        "scrolled": false
      }
    },
    {
      "cell_type": "markdown",
      "source": [
        "### Override paramater name detection\n",
        "\n",
        "iminuit tries hard to find out the parameter names and is pretty good at it. For example, if you pass a functor instead of a function, it will use the arguments of the `__call__` method, automatically skipping `self`.\n",
        "\nTo see which parameter names iminuit finds for your function, use the `describe` function, like so:"
      ],
      "metadata": {}
    },
    {
      "cell_type": "code",
      "source": [
        "from iminuit import describe\n",
        "\n",
        "def foo(x, y, z): pass\n",
        "assert describe(foo) == ['x', 'y', 'z']\n",
        "\n",
        "class Foo:\n",
        "    def __call__(self, a, b):\n",
        "        pass\n",
        "\nassert describe(Foo()) == ['a', 'b']"
      ],
      "outputs": [],
      "execution_count": 14,
      "metadata": {}
    },
    {
      "cell_type": "markdown",
      "source": [
        "This works very well, but for some functions, the parameter names cannot be determined. An obvious case are functions which accept a variable number of arguments."
      ],
      "metadata": {}
    },
    {
      "cell_type": "code",
      "source": [
        "def bar(*args):  # function with variable number of arguments\n",
        "    return sum((array(args) - 1) ** 2)\n",
        "\n",
        "try:\n",
        "    describe(bar)  # this will raise a TypeError\n",
        "except TypeError as e:\n",
        "    pprint(e)"
      ],
      "outputs": [
        {
          "output_type": "stream",
          "name": "stdout",
          "text": [
            "TypeError('Unable to obtain function signature')\n"
          ]
        }
      ],
      "execution_count": 15,
      "metadata": {}
    },
    {
      "cell_type": "markdown",
      "source": [
        "A `TypeError` is raised, because `describe` cannot detect the number and names of the parameters in this case. If you work with functions that accept a variable number of arguments a lot, we recommend to use vectorized functions, as explained in the next section.\n",
        "\nWhen iminuit cannot detect the arguments, but you know how many arguments there are, or if you simply want to override the names found by iminuit, you can do that with the keyword `forced_parameters`, like so:"
      ],
      "metadata": {}
    },
    {
      "cell_type": "code",
      "source": [
        "m = Minuit(bar, forced_parameters=('a', 'b'), a=1, b=2, pedantic=False)\n",
        "m.migrad()"
      ],
      "outputs": [
        {
          "output_type": "execute_result",
          "execution_count": 16,
          "data": {
            "text/plain": [
              "MigradResult(fmin=FMin(fval=5.385129436511098e-24, edm=5.3848718035482316e-24, tolerance=0.1, nfcn=24, ncalls=24, up=1.0, is_valid=True, has_valid_parameters=True, has_accurate_covar=True, has_posdef_covar=True, has_made_posdef_covar=False, hesse_failed=False, has_covariance=True, is_above_max_edm=False, has_reached_call_limit=False), params=[Param(index=0, name='a', value=1.0, error=1.0000000000000928, is_const=False, is_fixed=False, has_limits=False, has_lower_limit=False, has_upper_limit=False, lower_limit=None, upper_limit=None), Param(index=1, name='b', value=0.9999999999976794, error=1.0000000000000577, is_const=False, is_fixed=False, has_limits=False, has_lower_limit=False, has_upper_limit=False, lower_limit=None, upper_limit=None)])"
            ],
            "text/html": [
              "<table>\n",
              "<tr>\n",
              "<td colspan=\"2\" title=\"Minimum value of function\">\n",
              "FCN = 5.385E-24\n",
              "</td>\n",
              "<td align=\"center\" colspan=\"3\" title=\"No. of calls in last algorithm and total number of calls\">\n",
              "Ncalls = 24 (24 total)\n",
              "</td>\n",
              "</tr>\n",
              "<tr>\n",
              "<td colspan=\"2\" title=\"Estimated distance to minimum and target threshold\">\n",
              "EDM = 5.38E-24 (Goal: 1E-05)\n",
              "</td>\n",
              "<td colspan=\"3\" align=\"center\" title=\"Increase in FCN which corresponds to 1 standard deviation\">\n",
              "up = 1.0\n",
              "</td>\n",
              "</tr>\n",
              "<tr>\n",
              "<td align=\"center\" title=\"Validity of the migrad call\">\n",
              "Valid Min.\n",
              "</td>\n",
              "<td align=\"center\" title=\"Validity of parameters\">\n",
              "Valid Param.\n",
              "</td>\n",
              "<td align=\"center\" title=\"Is EDM above goal EDM?\">\n",
              "Above EDM\n",
              "</td>\n",
              "<td colspan=\"2\" align=\"center\" title=\"Did last migrad call reach max call limit?\">\n",
              "Reached call limit\n",
              "</td>\n",
              "</tr>\n",
              "<tr>\n",
              "<td align=\"center\" style=\"background-color:#92CCA6;\">\n",
              "True\n",
              "</td>\n",
              "<td align=\"center\" style=\"background-color:#92CCA6;\">\n",
              "True\n",
              "</td>\n",
              "<td align=\"center\" style=\"background-color:#92CCA6;\">\n",
              "False\n",
              "</td>\n",
              "<td colspan=\"2\" align=\"center\" style=\"background-color:#92CCA6;\">\n",
              "False\n",
              "</td>\n",
              "</tr>\n",
              "<tr>\n",
              "<td align=\"center\" title=\"Did Hesse fail?\">\n",
              "Hesse failed\n",
              "</td>\n",
              "<td align=\"center\" title=\"Has covariance matrix\">\n",
              "Has cov.\n",
              "</td>\n",
              "<td align=\"center\" title=\"Is covariance matrix accurate?\">\n",
              "Accurate\n",
              "</td>\n",
              "<td align=\"center\" title=\"Is covariance matrix positive definite?\">\n",
              "Pos. def.\n",
              "</td>\n",
              "<td align=\"center\" title=\"Was positive definiteness enforced by Minuit?\">\n",
              "Forced\n",
              "</td>\n",
              "</tr>\n",
              "<tr>\n",
              "<td align=\"center\" style=\"background-color:#92CCA6;\">\n",
              "False\n",
              "</td>\n",
              "<td align=\"center\" style=\"background-color:#92CCA6;\">\n",
              "True\n",
              "</td>\n",
              "<td align=\"center\" style=\"background-color:#92CCA6;\">\n",
              "True\n",
              "</td>\n",
              "<td align=\"center\" style=\"background-color:#92CCA6;\">\n",
              "True\n",
              "</td>\n",
              "<td align=\"center\" style=\"background-color:#92CCA6;\">\n",
              "False\n",
              "</td>\n",
              "</tr>\n",
              "</table>\n",
              "<table>\n",
              "<tr style=\"background-color:#F4F4F4;\">\n",
              "<td/>\n",
              "<th title=\"Variable name\">\n",
              "Name\n",
              "</th>\n",
              "<th title=\"Value of parameter\">\n",
              "Value\n",
              "</th>\n",
              "<th title=\"Hesse error\">\n",
              "Hesse Error\n",
              "</th>\n",
              "<th title=\"Minos lower error\">\n",
              "Minos Error-\n",
              "</th>\n",
              "<th title=\"Minos upper error\">\n",
              "Minos Error+\n",
              "</th>\n",
              "<th title=\"Lower limit of the parameter\">\n",
              "Limit-\n",
              "</th>\n",
              "<th title=\"Upper limit of the parameter\">\n",
              "Limit+\n",
              "</th>\n",
              "<th title=\"Is the parameter fixed in the fit\">\n",
              "Fixed\n",
              "</th>\n",
              "</tr>\n",
              "<tr style=\"background-color:#FFFFFF;\">\n",
              "<td>\n",
              "0\n",
              "</td>\n",
              "<td>\n",
              "a\n",
              "</td>\n",
              "<td>\n",
              "1.0\n",
              "</td>\n",
              "<td>\n",
              "1.0\n",
              "</td>\n",
              "<td>\n",
              "\n",
              "</td>\n",
              "<td>\n",
              "\n",
              "</td>\n",
              "<td>\n",
              "\n",
              "</td>\n",
              "<td>\n",
              "\n",
              "</td>\n",
              "<td>\n",
              "\n",
              "</td>\n",
              "</tr>\n",
              "<tr style=\"background-color:#F4F4F4;\">\n",
              "<td>\n",
              "1\n",
              "</td>\n",
              "<td>\n",
              "b\n",
              "</td>\n",
              "<td>\n",
              "1.0\n",
              "</td>\n",
              "<td>\n",
              "1.0\n",
              "</td>\n",
              "<td>\n",
              "\n",
              "</td>\n",
              "<td>\n",
              "\n",
              "</td>\n",
              "<td>\n",
              "\n",
              "</td>\n",
              "<td>\n",
              "\n",
              "</td>\n",
              "<td>\n",
              "\n",
              "</td>\n",
              "</tr>\n",
              "</table>\n"
            ]
          },
          "metadata": {}
        }
      ],
      "execution_count": 16,
      "metadata": {}
    },
    {
      "cell_type": "markdown",
      "source": [
        "### Alternative: Vectorized functions\n",
        "\n",
        "You can also use iminuit with functions that accept numpy arrays. This has pros and cons.\n",
        "\n",
        "**Pros**\n",
        "- Easy to change number of fitted parameters\n",
        "- Sometimes simpler function body that's easier to read\n",
        "- Technically more efficient, although this is probably not noticable unless you have >100 parameters\n",
        "\n",
        "**Cons**\n",
        "- iminuit cannot figure out names for each parameter\n",
        "\nLet's take the original `least_squares` function and write a vectorized version:"
      ],
      "metadata": {}
    },
    {
      "cell_type": "code",
      "source": [
        "import numpy as np\n",
        "\n",
        "def least_squares_np(par):  # par is a numpy array here \n",
        "    mu = np.polyval(par, data_x)  # for par = (a, b) this is a line\n",
        "    yvar = 0.01\n",
        "    return np.sum((data_y - mu) ** 2 / yvar)"
      ],
      "outputs": [],
      "execution_count": 17,
      "metadata": {}
    },
    {
      "cell_type": "markdown",
      "source": [
        "`least_square(a, b)` and `least_squares_np(par)` are alternative implementations of the same mathematical function, if the latter is called with two arguments. In contrast to `least_squares`, `least_squares_np` can also be called with fewer or more arguments, using a polynomial of the corresponding order predict the behavior of the data. This will come in handy. \n",
        "\nTo pass a numpy function, create a Minuit object with the method `Minuit.from_array_func`. Using the function `least_squares_np(par)` described above as an example, the call looks like this:"
      ],
      "metadata": {}
    },
    {
      "cell_type": "code",
      "source": [
        "m = Minuit.from_array_func(least_squares_np, (5, 5), error=(0.1, 0.1), errordef=1)\n",
        "m.get_param_states()"
      ],
      "outputs": [
        {
          "output_type": "execute_result",
          "execution_count": 18,
          "data": {
            "text/plain": [
              "[Param(index=0, name='x0', value=5.0, error=0.1, is_const=False, is_fixed=False, has_limits=False, has_lower_limit=False, has_upper_limit=False, lower_limit=None, upper_limit=None),\n",
              " Param(index=1, name='x1', value=5.0, error=0.1, is_const=False, is_fixed=False, has_limits=False, has_lower_limit=False, has_upper_limit=False, lower_limit=None, upper_limit=None)]"
            ],
            "text/html": [
              "<table>\n",
              "<tr style=\"background-color:#F4F4F4;\">\n",
              "<td/>\n",
              "<th title=\"Variable name\">\n",
              "Name\n",
              "</th>\n",
              "<th title=\"Value of parameter\">\n",
              "Value\n",
              "</th>\n",
              "<th title=\"Hesse error\">\n",
              "Hesse Error\n",
              "</th>\n",
              "<th title=\"Minos lower error\">\n",
              "Minos Error-\n",
              "</th>\n",
              "<th title=\"Minos upper error\">\n",
              "Minos Error+\n",
              "</th>\n",
              "<th title=\"Lower limit of the parameter\">\n",
              "Limit-\n",
              "</th>\n",
              "<th title=\"Upper limit of the parameter\">\n",
              "Limit+\n",
              "</th>\n",
              "<th title=\"Is the parameter fixed in the fit\">\n",
              "Fixed\n",
              "</th>\n",
              "</tr>\n",
              "<tr style=\"background-color:#FFFFFF;\">\n",
              "<td>\n",
              "0\n",
              "</td>\n",
              "<td>\n",
              "x0\n",
              "</td>\n",
              "<td>\n",
              "5.00\n",
              "</td>\n",
              "<td>\n",
              "0.10\n",
              "</td>\n",
              "<td>\n",
              "\n",
              "</td>\n",
              "<td>\n",
              "\n",
              "</td>\n",
              "<td>\n",
              "\n",
              "</td>\n",
              "<td>\n",
              "\n",
              "</td>\n",
              "<td>\n",
              "\n",
              "</td>\n",
              "</tr>\n",
              "<tr style=\"background-color:#F4F4F4;\">\n",
              "<td>\n",
              "1\n",
              "</td>\n",
              "<td>\n",
              "x1\n",
              "</td>\n",
              "<td>\n",
              "5.00\n",
              "</td>\n",
              "<td>\n",
              "0.10\n",
              "</td>\n",
              "<td>\n",
              "\n",
              "</td>\n",
              "<td>\n",
              "\n",
              "</td>\n",
              "<td>\n",
              "\n",
              "</td>\n",
              "<td>\n",
              "\n",
              "</td>\n",
              "<td>\n",
              "\n",
              "</td>\n",
              "</tr>\n",
              "</table>\n"
            ]
          },
          "metadata": {}
        }
      ],
      "execution_count": 18,
      "metadata": {}
    },
    {
      "cell_type": "markdown",
      "source": [
        "The first argument after the function is the starting point, which you provide as a sequence here. iminuit uses the length of this sequence to detect how many parameters your function has. As before you can use the keywords `error`, `limit`, and `fix`, to set initial step sizes, parameter limits, and fix parameters. These must be sequences with the same length as the starting point. For `error` and `limit`, it is also allowed to give a single step size or a single limit, which is then used for all parameters.\n",
        "\nBy default, the parameters are named automatically `x0` to `xN`. You can override this with the keyword `name`, passing a sequence of parameter names, like so: "
      ],
      "metadata": {}
    },
    {
      "cell_type": "code",
      "source": [
        "m = Minuit.from_array_func(least_squares_np, (5, 5), error=(0.1, 0.1), fix=(True, False),\n",
        "                           limit=((0, None), (0, 10)),\n",
        "                           name = (\"a\", \"b\"), errordef=1)\n",
        "m.get_param_states()"
      ],
      "outputs": [
        {
          "output_type": "execute_result",
          "execution_count": 19,
          "data": {
            "text/plain": [
              "[Param(index=0, name='a', value=5.0, error=0.1, is_const=False, is_fixed=True, has_limits=True, has_lower_limit=True, has_upper_limit=False, lower_limit=0.0, upper_limit=None),\n",
              " Param(index=1, name='b', value=5.0, error=0.1, is_const=False, is_fixed=False, has_limits=True, has_lower_limit=True, has_upper_limit=True, lower_limit=0.0, upper_limit=10.0)]"
            ],
            "text/html": [
              "<table>\n",
              "<tr style=\"background-color:#F4F4F4;\">\n",
              "<td/>\n",
              "<th title=\"Variable name\">\n",
              "Name\n",
              "</th>\n",
              "<th title=\"Value of parameter\">\n",
              "Value\n",
              "</th>\n",
              "<th title=\"Hesse error\">\n",
              "Hesse Error\n",
              "</th>\n",
              "<th title=\"Minos lower error\">\n",
              "Minos Error-\n",
              "</th>\n",
              "<th title=\"Minos upper error\">\n",
              "Minos Error+\n",
              "</th>\n",
              "<th title=\"Lower limit of the parameter\">\n",
              "Limit-\n",
              "</th>\n",
              "<th title=\"Upper limit of the parameter\">\n",
              "Limit+\n",
              "</th>\n",
              "<th title=\"Is the parameter fixed in the fit\">\n",
              "Fixed\n",
              "</th>\n",
              "</tr>\n",
              "<tr style=\"background-color:#FFFFFF;\">\n",
              "<td>\n",
              "0\n",
              "</td>\n",
              "<td>\n",
              "a\n",
              "</td>\n",
              "<td>\n",
              "5.00\n",
              "</td>\n",
              "<td>\n",
              "0.10\n",
              "</td>\n",
              "<td>\n",
              "\n",
              "</td>\n",
              "<td>\n",
              "\n",
              "</td>\n",
              "<td>\n",
              "0\n",
              "</td>\n",
              "<td>\n",
              "\n",
              "</td>\n",
              "<td>\n",
              "yes\n",
              "</td>\n",
              "</tr>\n",
              "<tr style=\"background-color:#F4F4F4;\">\n",
              "<td>\n",
              "1\n",
              "</td>\n",
              "<td>\n",
              "b\n",
              "</td>\n",
              "<td>\n",
              "5.00\n",
              "</td>\n",
              "<td>\n",
              "0.10\n",
              "</td>\n",
              "<td>\n",
              "\n",
              "</td>\n",
              "<td>\n",
              "\n",
              "</td>\n",
              "<td>\n",
              "0\n",
              "</td>\n",
              "<td>\n",
              "10\n",
              "</td>\n",
              "<td>\n",
              "\n",
              "</td>\n",
              "</tr>\n",
              "</table>\n"
            ]
          },
          "metadata": {}
        }
      ],
      "execution_count": 19,
      "metadata": {}
    },
    {
      "cell_type": "markdown",
      "source": [
        "Since `least_squares_np(par)` works for numpy arrays of any length, you can easily change the number of fitted parameters by changing the length of the starting array, like so:"
      ],
      "metadata": {}
    },
    {
      "cell_type": "code",
      "source": [
        "m = Minuit.from_array_func(least_squares_np, (5, 5, 5, 5), error=0.1, errordef=1)\n",
        "m.get_param_states()"
      ],
      "outputs": [
        {
          "output_type": "execute_result",
          "execution_count": 20,
          "data": {
            "text/plain": [
              "[Param(index=0, name='x0', value=5.0, error=0.1, is_const=False, is_fixed=False, has_limits=False, has_lower_limit=False, has_upper_limit=False, lower_limit=None, upper_limit=None),\n",
              " Param(index=1, name='x1', value=5.0, error=0.1, is_const=False, is_fixed=False, has_limits=False, has_lower_limit=False, has_upper_limit=False, lower_limit=None, upper_limit=None),\n",
              " Param(index=2, name='x2', value=5.0, error=0.1, is_const=False, is_fixed=False, has_limits=False, has_lower_limit=False, has_upper_limit=False, lower_limit=None, upper_limit=None),\n",
              " Param(index=3, name='x3', value=5.0, error=0.1, is_const=False, is_fixed=False, has_limits=False, has_lower_limit=False, has_upper_limit=False, lower_limit=None, upper_limit=None)]"
            ],
            "text/html": [
              "<table>\n",
              "<tr style=\"background-color:#F4F4F4;\">\n",
              "<td/>\n",
              "<th title=\"Variable name\">\n",
              "Name\n",
              "</th>\n",
              "<th title=\"Value of parameter\">\n",
              "Value\n",
              "</th>\n",
              "<th title=\"Hesse error\">\n",
              "Hesse Error\n",
              "</th>\n",
              "<th title=\"Minos lower error\">\n",
              "Minos Error-\n",
              "</th>\n",
              "<th title=\"Minos upper error\">\n",
              "Minos Error+\n",
              "</th>\n",
              "<th title=\"Lower limit of the parameter\">\n",
              "Limit-\n",
              "</th>\n",
              "<th title=\"Upper limit of the parameter\">\n",
              "Limit+\n",
              "</th>\n",
              "<th title=\"Is the parameter fixed in the fit\">\n",
              "Fixed\n",
              "</th>\n",
              "</tr>\n",
              "<tr style=\"background-color:#FFFFFF;\">\n",
              "<td>\n",
              "0\n",
              "</td>\n",
              "<td>\n",
              "x0\n",
              "</td>\n",
              "<td>\n",
              "5.00\n",
              "</td>\n",
              "<td>\n",
              "0.10\n",
              "</td>\n",
              "<td>\n",
              "\n",
              "</td>\n",
              "<td>\n",
              "\n",
              "</td>\n",
              "<td>\n",
              "\n",
              "</td>\n",
              "<td>\n",
              "\n",
              "</td>\n",
              "<td>\n",
              "\n",
              "</td>\n",
              "</tr>\n",
              "<tr style=\"background-color:#F4F4F4;\">\n",
              "<td>\n",
              "1\n",
              "</td>\n",
              "<td>\n",
              "x1\n",
              "</td>\n",
              "<td>\n",
              "5.00\n",
              "</td>\n",
              "<td>\n",
              "0.10\n",
              "</td>\n",
              "<td>\n",
              "\n",
              "</td>\n",
              "<td>\n",
              "\n",
              "</td>\n",
              "<td>\n",
              "\n",
              "</td>\n",
              "<td>\n",
              "\n",
              "</td>\n",
              "<td>\n",
              "\n",
              "</td>\n",
              "</tr>\n",
              "<tr style=\"background-color:#FFFFFF;\">\n",
              "<td>\n",
              "2\n",
              "</td>\n",
              "<td>\n",
              "x2\n",
              "</td>\n",
              "<td>\n",
              "5.00\n",
              "</td>\n",
              "<td>\n",
              "0.10\n",
              "</td>\n",
              "<td>\n",
              "\n",
              "</td>\n",
              "<td>\n",
              "\n",
              "</td>\n",
              "<td>\n",
              "\n",
              "</td>\n",
              "<td>\n",
              "\n",
              "</td>\n",
              "<td>\n",
              "\n",
              "</td>\n",
              "</tr>\n",
              "<tr style=\"background-color:#F4F4F4;\">\n",
              "<td>\n",
              "3\n",
              "</td>\n",
              "<td>\n",
              "x3\n",
              "</td>\n",
              "<td>\n",
              "5.00\n",
              "</td>\n",
              "<td>\n",
              "0.10\n",
              "</td>\n",
              "<td>\n",
              "\n",
              "</td>\n",
              "<td>\n",
              "\n",
              "</td>\n",
              "<td>\n",
              "\n",
              "</td>\n",
              "<td>\n",
              "\n",
              "</td>\n",
              "<td>\n",
              "\n",
              "</td>\n",
              "</tr>\n",
              "</table>\n"
            ]
          },
          "metadata": {}
        }
      ],
      "execution_count": 20,
      "metadata": {}
    },
    {
      "cell_type": "markdown",
      "source": [
        "This is useful when you fit a polynomial to parametrize some data and you want to try different orders of the polynomial. If the order is too small, the polynomial will not follow the data. If it is too large, you will overfit the data and polynomial will pick up random fluctuations and not the underlying trend. You can figure out the right order by experimenting or using an algorithm like cross-validation.\n",
        "\nIf you are very familiar with numpy and scipy, you may find the `minimize` function useful. It exactly mimics the function interface of `scipy.optimize.minimize`, but uses `Minuit` for the actual minimization. You need to have `scipy` installed to use it."
      ],
      "metadata": {}
    },
    {
      "cell_type": "code",
      "source": [
        "from iminuit import minimize  # has same interface as scipy.optimize.minimize\n",
        "minimize(least_squares_np, (5, 5))"
      ],
      "outputs": [
        {
          "output_type": "execute_result",
          "execution_count": 21,
          "data": {
            "text/plain": [
              "      fun: 10.387011251394036\n",
              " hess_inv: array([[ 0.00981818, -0.00490909],\n",
              "       [-0.00490909,  0.00345455]])\n",
              "  message: 'Optimization terminated successfully.'\n",
              "   minuit: <iminuit._libiminuit.Minuit object at 0x7fcf918902c8>\n",
              "     nfev: 36\n",
              "     njev: 0\n",
              "  success: True\n",
              "        x: array([1.9449447 , 0.99096644])"
            ]
          },
          "metadata": {}
        }
      ],
      "execution_count": 21,
      "metadata": {}
    },
    {
      "cell_type": "markdown",
      "source": [
        "## Minimize the function\n",
        "\nTo run the actual minimization, you call the `Minuit.migrad()` method. Migrad performs Variable-Metric Minimization. It combines a steepest-descends algorithm along with line search strategy. Migrad is very popular in high energy physics field because of its robustness."
      ],
      "metadata": {}
    },
    {
      "cell_type": "code",
      "source": [
        "m = Minuit(least_squares, a=5, b=5, error_a=0.1, error_b=0.1, errordef=1)\n",
        "m.migrad()"
      ],
      "outputs": [
        {
          "output_type": "execute_result",
          "execution_count": 42,
          "data": {
            "text/plain": [
              "MigradResult(fmin=FMin(fval=10.38701125139405, edm=1.38398344663906e-21, tolerance=0.1, nfcn=32, ncalls=32, up=1.0, is_valid=True, has_valid_parameters=True, has_accurate_covar=True, has_posdef_covar=True, has_made_posdef_covar=False, hesse_failed=False, has_covariance=True, is_above_max_edm=False, has_reached_call_limit=False), params=[Param(index=0, name='a', value=0.9909664415272668, error=0.05877538150833177, is_const=False, is_fixed=False, has_limits=False, has_lower_limit=False, has_upper_limit=False, lower_limit=None, upper_limit=None), Param(index=1, name='b', value=1.9449447037454457, error=0.09908673918625613, is_const=False, is_fixed=False, has_limits=False, has_lower_limit=False, has_upper_limit=False, lower_limit=None, upper_limit=None)])"
            ],
            "text/html": [
              "<table>\n",
              "<tr>\n",
              "<td colspan=\"2\" title=\"Minimum value of function\">\n",
              "FCN = 10.39\n",
              "</td>\n",
              "<td align=\"center\" colspan=\"3\" title=\"No. of calls in last algorithm and total number of calls\">\n",
              "Ncalls = 32 (32 total)\n",
              "</td>\n",
              "</tr>\n",
              "<tr>\n",
              "<td colspan=\"2\" title=\"Estimated distance to minimum and target threshold\">\n",
              "EDM = 1.38E-21 (Goal: 1E-05)\n",
              "</td>\n",
              "<td colspan=\"3\" align=\"center\" title=\"Increase in FCN which corresponds to 1 standard deviation\">\n",
              "up = 1.0\n",
              "</td>\n",
              "</tr>\n",
              "<tr>\n",
              "<td align=\"center\" title=\"Validity of the migrad call\">\n",
              "Valid Min.\n",
              "</td>\n",
              "<td align=\"center\" title=\"Validity of parameters\">\n",
              "Valid Param.\n",
              "</td>\n",
              "<td align=\"center\" title=\"Is EDM above goal EDM?\">\n",
              "Above EDM\n",
              "</td>\n",
              "<td colspan=\"2\" align=\"center\" title=\"Did last migrad call reach max call limit?\">\n",
              "Reached call limit\n",
              "</td>\n",
              "</tr>\n",
              "<tr>\n",
              "<td align=\"center\" style=\"background-color:#92CCA6;\">\n",
              "True\n",
              "</td>\n",
              "<td align=\"center\" style=\"background-color:#92CCA6;\">\n",
              "True\n",
              "</td>\n",
              "<td align=\"center\" style=\"background-color:#92CCA6;\">\n",
              "False\n",
              "</td>\n",
              "<td colspan=\"2\" align=\"center\" style=\"background-color:#92CCA6;\">\n",
              "False\n",
              "</td>\n",
              "</tr>\n",
              "<tr>\n",
              "<td align=\"center\" title=\"Did Hesse fail?\">\n",
              "Hesse failed\n",
              "</td>\n",
              "<td align=\"center\" title=\"Has covariance matrix\">\n",
              "Has cov.\n",
              "</td>\n",
              "<td align=\"center\" title=\"Is covariance matrix accurate?\">\n",
              "Accurate\n",
              "</td>\n",
              "<td align=\"center\" title=\"Is covariance matrix positive definite?\">\n",
              "Pos. def.\n",
              "</td>\n",
              "<td align=\"center\" title=\"Was positive definiteness enforced by Minuit?\">\n",
              "Forced\n",
              "</td>\n",
              "</tr>\n",
              "<tr>\n",
              "<td align=\"center\" style=\"background-color:#92CCA6;\">\n",
              "False\n",
              "</td>\n",
              "<td align=\"center\" style=\"background-color:#92CCA6;\">\n",
              "True\n",
              "</td>\n",
              "<td align=\"center\" style=\"background-color:#92CCA6;\">\n",
              "True\n",
              "</td>\n",
              "<td align=\"center\" style=\"background-color:#92CCA6;\">\n",
              "True\n",
              "</td>\n",
              "<td align=\"center\" style=\"background-color:#92CCA6;\">\n",
              "False\n",
              "</td>\n",
              "</tr>\n",
              "</table>\n",
              "<table>\n",
              "<tr style=\"background-color:#F4F4F4;\">\n",
              "<td/>\n",
              "<th title=\"Variable name\">\n",
              "Name\n",
              "</th>\n",
              "<th title=\"Value of parameter\">\n",
              "Value\n",
              "</th>\n",
              "<th title=\"Hesse error\">\n",
              "Hesse Error\n",
              "</th>\n",
              "<th title=\"Minos lower error\">\n",
              "Minos Error-\n",
              "</th>\n",
              "<th title=\"Minos upper error\">\n",
              "Minos Error+\n",
              "</th>\n",
              "<th title=\"Lower limit of the parameter\">\n",
              "Limit-\n",
              "</th>\n",
              "<th title=\"Upper limit of the parameter\">\n",
              "Limit+\n",
              "</th>\n",
              "<th title=\"Is the parameter fixed in the fit\">\n",
              "Fixed\n",
              "</th>\n",
              "</tr>\n",
              "<tr style=\"background-color:#FFFFFF;\">\n",
              "<td>\n",
              "0\n",
              "</td>\n",
              "<td>\n",
              "a\n",
              "</td>\n",
              "<td>\n",
              "0.99\n",
              "</td>\n",
              "<td>\n",
              "0.06\n",
              "</td>\n",
              "<td>\n",
              "\n",
              "</td>\n",
              "<td>\n",
              "\n",
              "</td>\n",
              "<td>\n",
              "\n",
              "</td>\n",
              "<td>\n",
              "\n",
              "</td>\n",
              "<td>\n",
              "\n",
              "</td>\n",
              "</tr>\n",
              "<tr style=\"background-color:#F4F4F4;\">\n",
              "<td>\n",
              "1\n",
              "</td>\n",
              "<td>\n",
              "b\n",
              "</td>\n",
              "<td>\n",
              "1.94\n",
              "</td>\n",
              "<td>\n",
              "0.10\n",
              "</td>\n",
              "<td>\n",
              "\n",
              "</td>\n",
              "<td>\n",
              "\n",
              "</td>\n",
              "<td>\n",
              "\n",
              "</td>\n",
              "<td>\n",
              "\n",
              "</td>\n",
              "<td>\n",
              "\n",
              "</td>\n",
              "</tr>\n",
              "</table>\n"
            ]
          },
          "metadata": {}
        }
      ],
      "execution_count": 42,
      "metadata": {
        "scrolled": true
      }
    },
    {
      "cell_type": "markdown",
      "source": [
        "The method returns two dict-like objects, which contain information about the function minimum and the parameter state. In a notebook, these objects are nicely rendered as tables. This is good for a quick check:\n",
        "\n",
        "- All blocks should be green.\n",
        "- Red means something bad. \n",
        "- Yellow is a caution (fit is good but you ran over call limit)\n",
        "\nLet's look at the actual object. The first is the function minimum `fmin`:"
      ],
      "metadata": {}
    },
    {
      "cell_type": "code",
      "source": [
        "pprint(m.get_fmin())"
      ],
      "outputs": [
        {
          "output_type": "stream",
          "name": "stdout",
          "text": [
            "FMin(fval=10.38701125139405, edm=1.38398344663906e-21, tolerance=0.1, nfcn=32, ncalls=32, up=1.0, is_valid=True, has_valid_parameters=True, has_accurate_covar=True, has_posdef_covar=True, has_made_posdef_covar=False, hesse_failed=False, has_covariance=True, is_above_max_edm=False, has_reached_call_limit=False)\n"
          ]
        }
      ],
      "execution_count": 23,
      "metadata": {}
    },
    {
      "cell_type": "markdown",
      "source": [
        "The most important one here is `is_valid`. If this is false, the fit did not converge and the result is useless. If that happens, there can be many reasons.\n",
        "\n",
        "- The fit function is not analytical everywhere in the parameter space or does not have a local minimum (the minimum may be at infinity, the extremum may be a saddle point or maximum). Indicators for this are `is_above_max_edm=True`, `hesse_failed=True`, `has_posdef_covar=False`, or `has_made_posdef_covar=True`.\n",
        "- Migrad reached the call limit before the convergence so that `has_reached_call_limit=True`. The used number of function calls is `nfcn`, and the call limit can be changed with the keyword argument `ncall` in the method  `Minuit.migrad`. Note that `nfcn` can be slightly larger than `ncall`, because Migrad internally only checks this condition after a full iteration step, in which several function calls can happen.\n",
        "\n",
        "Migrad detects converge by a small `edm` value, the *estimated distance to minimum*. This is the difference between the current minimum value of the minimized function and the next prediction based on a local quadratic approximation of the function (something that Migrad computes as part of its algorithm). If the fit did not converge, `is_above_max_edm` is true.\n",
        "\n",
        "If you are interested in parameter uncertainties, you should make sure that:\n",
        "\n",
        "- `has_covariance`, `has_accurate_covar`, and `has_posdef_covar` are true.\n",
        "- `has_made_posdef_covar` and `hesse_failed` are false.\n",
        "\n",
        "**Beware**: Migrad sometimes reports `is_valid=True` even when the result is wrong. There are some known and perhaps some hidden bugs in the Migrad code which cause this. When you find such a case, please report it, so that we can forward it to the maintainers of C++ Minuit. We advice to carefully check the fit result in any case for consistency, for example, by plotting the fitted function on top of the data to see that they match.\n",
        "\nThe second object of interest after the fit is the parameter list:"
      ],
      "metadata": {}
    },
    {
      "cell_type": "code",
      "source": [
        "pprint(m.get_param_states())"
      ],
      "outputs": [
        {
          "output_type": "stream",
          "name": "stdout",
          "text": [
            "[Param(index=0, name='a', value=0.9909664415272668, error=0.05877538150833177, is_const=False, is_fixed=False, has_limits=False, has_lower_limit=False, has_upper_limit=False, lower_limit=None, upper_limit=None),\n",
            " Param(index=1, name='b', value=1.9449447037454457, error=0.09908673918625613, is_const=False, is_fixed=False, has_limits=False, has_lower_limit=False, has_upper_limit=False, lower_limit=None, upper_limit=None)]\n"
          ]
        }
      ],
      "execution_count": 24,
      "metadata": {
        "scrolled": true
      }
    },
    {
      "cell_type": "markdown",
      "source": [
        "This is a list of dict-like objects which contain information about the fitted parameters. Important fields are:\n",
        "- `index`: parameter index.\n",
        "- `name`: parameter name.\n",
        "- `value`: value of the parameter at the minimum.\n",
        "- `error`: uncertainty estimate for the parameter value.\n",
        "\n",
        "Whether the uncertainty estimate is accurate depends on the correct mathematical modeling of your fitting problem and using the right `errordef` value for Minuit (which one to use was already explained earlier).\n",
        "\n",
        "What do we mean by correct mathematical modelling? If you look into the function `least_squares(a, b)`, you see that each squared residuals is divided by the expected stochastic variance of the residual. This is necessary to get accurate uncertainty estimates for the parameters.\n",
        "\nOften the expected variance of the residual is not exactly known, but it usually can be approximated. If the function to minimize is a least-squares function, there is a simple test to check whether the residual variances are accurate. You look at the function value at the minimum, here given by `fmin.fval`, and divide it by the difference of the number of residuals and the number of fitted parameters. This is so-called reduced chi2."
      ],
      "metadata": {}
    },
    {
      "cell_type": "code",
      "source": [
        "m.fval / (len(data_y) - 2)  # reduced chi2"
      ],
      "outputs": [
        {
          "output_type": "execute_result",
          "execution_count": 25,
          "data": {
            "text/plain": [
              "1.2983764064242562"
            ]
          },
          "metadata": {}
        }
      ],
      "execution_count": 25,
      "metadata": {}
    },
    {
      "cell_type": "markdown",
      "source": [
        "This value should be around 1. The more residuals you have, the closer. If the value is much larger than 1, then you either underestimate the variance of the residuals or your model does not describe the data. If the value is much smaller than 1, then you overestimate the variance of the residuals.\n",
        "\n",
        "##  Parameter uncertainties, covariances, and confidence intervals\n",
        "\n",
        "You saw how to get the uncertainty of each individual parameter, but parameters are usually correlated. This is essential additional information if you want to work with parameter uncertainties seriously. We will discuss next how you access that.\n",
        "\nMinuit offers two ways to compute the parameter uncertainties, Hesse and Minos. Both have pros and cons."
      ],
      "metadata": {}
    },
    {
      "cell_type": "markdown",
      "source": [
        "### Hesse for covariance and correlation matrices\n",
        "\n",
        "The Hesse algorithm numerically computes the matrix of second derivatives at the function minimum (called the Hesse matrix) and inverts it. The Hesse matrix is symmetric by construction. In the limit of infinite data samples to fit, the result of this computation converges to the true covariance matrix of the parameters. It often is already a good approximation even for finite statistic. These errors obtained from this method are sometimes called *parabolic errors*, because the Hesse matrix method is exact if the function is a hyperparabola (third and higher-order derivatives are all zero).\n",
        "\n",
        "Pros:\n",
        "- (Comparably) fast computation.\n",
        "- Provides covariance matrix for error propagation.\n",
        "\n",
        "Cons:\n",
        "- Wrong if function does not look like a hyperparabola around the minimum\n",
        "\n",
        "The Migrad algorithm computes an approximation of the Hesse matrix automatically during minimization. When the default strategy is used, Minuit does a check whether this approximation is sufficiently accurate and if not, it computes the Hesse matrix automatically.\n",
        "\nAll this happens inside C++ Minuit and is a bit intransparent, so we recommend to call `Minuit.hesse` explicitly after the minimization if exact errors are important, like so:"
      ],
      "metadata": {}
    },
    {
      "cell_type": "code",
      "source": [
        "m.hesse()"
      ],
      "outputs": [
        {
          "output_type": "execute_result",
          "execution_count": 26,
          "data": {
            "text/plain": [
              "[Param(index=0, name='a', value=0.9909664415272668, error=0.05877538249353676, is_const=False, is_fixed=False, has_limits=False, has_lower_limit=False, has_upper_limit=False, lower_limit=None, upper_limit=None),\n",
              " Param(index=1, name='b', value=1.9449447037454457, error=0.09908674089811967, is_const=False, is_fixed=False, has_limits=False, has_lower_limit=False, has_upper_limit=False, lower_limit=None, upper_limit=None)]"
            ],
            "text/html": [
              "<table>\n",
              "<tr style=\"background-color:#F4F4F4;\">\n",
              "<td/>\n",
              "<th title=\"Variable name\">\n",
              "Name\n",
              "</th>\n",
              "<th title=\"Value of parameter\">\n",
              "Value\n",
              "</th>\n",
              "<th title=\"Hesse error\">\n",
              "Hesse Error\n",
              "</th>\n",
              "<th title=\"Minos lower error\">\n",
              "Minos Error-\n",
              "</th>\n",
              "<th title=\"Minos upper error\">\n",
              "Minos Error+\n",
              "</th>\n",
              "<th title=\"Lower limit of the parameter\">\n",
              "Limit-\n",
              "</th>\n",
              "<th title=\"Upper limit of the parameter\">\n",
              "Limit+\n",
              "</th>\n",
              "<th title=\"Is the parameter fixed in the fit\">\n",
              "Fixed\n",
              "</th>\n",
              "</tr>\n",
              "<tr style=\"background-color:#FFFFFF;\">\n",
              "<td>\n",
              "0\n",
              "</td>\n",
              "<td>\n",
              "a\n",
              "</td>\n",
              "<td>\n",
              "0.99\n",
              "</td>\n",
              "<td>\n",
              "0.06\n",
              "</td>\n",
              "<td>\n",
              "\n",
              "</td>\n",
              "<td>\n",
              "\n",
              "</td>\n",
              "<td>\n",
              "\n",
              "</td>\n",
              "<td>\n",
              "\n",
              "</td>\n",
              "<td>\n",
              "\n",
              "</td>\n",
              "</tr>\n",
              "<tr style=\"background-color:#F4F4F4;\">\n",
              "<td>\n",
              "1\n",
              "</td>\n",
              "<td>\n",
              "b\n",
              "</td>\n",
              "<td>\n",
              "1.94\n",
              "</td>\n",
              "<td>\n",
              "0.10\n",
              "</td>\n",
              "<td>\n",
              "\n",
              "</td>\n",
              "<td>\n",
              "\n",
              "</td>\n",
              "<td>\n",
              "\n",
              "</td>\n",
              "<td>\n",
              "\n",
              "</td>\n",
              "<td>\n",
              "\n",
              "</td>\n",
              "</tr>\n",
              "</table>\n"
            ]
          },
          "metadata": {}
        }
      ],
      "execution_count": 26,
      "metadata": {}
    },
    {
      "cell_type": "markdown",
      "source": [
        "The call returns the updated parameter list, which is again rendered as a table. In this case, there is no difference to the error reported before.\n",
        "\n",
        "#### Correlation and Covariance Matrix\n",
        "\nTo see the correlation matrix of the parameters, you do:"
      ],
      "metadata": {}
    },
    {
      "cell_type": "code",
      "source": [
        "m.matrix(correlation=True)"
      ],
      "outputs": [
        {
          "output_type": "execute_result",
          "execution_count": 27,
          "data": {
            "text/plain": [
              "[(1.0, -0.8429272368219684), (-0.8429272368219684, 1.0)]"
            ],
            "text/html": [
              "<table>\n",
              "<tr>\n",
              "<td/>\n",
              "\n",
              "<th>\n",
              "a\n",
              "</th>\n",
              "<th>\n",
              "b\n",
              "</th>\n",
              "</tr>\n",
              "<tr>\n",
              "<th>\n",
              "a\n",
              "</th>\n",
              "<td>\n",
              "1.00\n",
              "</td>\n",
              "<td style=\"background-color:rgb(241,139,128)\">\n",
              "-0.84\n",
              "</td>\n",
              "</tr>\n",
              "<tr>\n",
              "<th>\n",
              "b\n",
              "</th>\n",
              "<td style=\"background-color:rgb(241,139,128)\">\n",
              "-0.84\n",
              "</td>\n",
              "<td>\n",
              "1.00\n",
              "</td>\n",
              "</tr>\n",
              "</table>\n"
            ]
          },
          "metadata": {}
        }
      ],
      "execution_count": 27,
      "metadata": {
        "collapsed": false,
        "outputHidden": false,
        "inputHidden": false
      }
    },
    {
      "cell_type": "markdown",
      "source": [
        "The paramaters $a$ and $b$ are stronly anti-correlated, which is highlighed by the reddish color of the off-diagonal elements.\n",
        "\n",
        "Correlation is not necessarily a bad thing, but if you have freedom in redefining the parameters of the fit function, it is good to chose parameters which are not strongly correlated.\n",
        "\n",
        "Minuit cannot accurately minimise the function if two parameters are (almost) perfectly (anti-)correlated. It also means that one of two parameters is superfluous, it doesn't add new information. You should rethink the fit function in this case and try to remove one of the parameters from the fit.\n",
        "\nYou can also look at the covariance matrix:"
      ],
      "metadata": {}
    },
    {
      "cell_type": "code",
      "source": [
        "m.matrix()"
      ],
      "outputs": [
        {
          "output_type": "execute_result",
          "execution_count": 28,
          "data": {
            "text/plain": [
              "[(0.003454545587261548, -0.004909091141560154),\n",
              " (-0.004909091141560154, 0.0098181822218111)]"
            ],
            "text/html": [
              "<table>\n",
              "<tr>\n",
              "<td/>\n",
              "\n",
              "<th>\n",
              "a\n",
              "</th>\n",
              "<th>\n",
              "b\n",
              "</th>\n",
              "</tr>\n",
              "<tr>\n",
              "<th>\n",
              "a\n",
              "</th>\n",
              "<td>\n",
              "0.003\n",
              "</td>\n",
              "<td style=\"background-color:rgb(241,139,128)\">\n",
              "-0.005\n",
              "</td>\n",
              "</tr>\n",
              "<tr>\n",
              "<th>\n",
              "b\n",
              "</th>\n",
              "<td style=\"background-color:rgb(241,139,128)\">\n",
              "-0.005\n",
              "</td>\n",
              "<td>\n",
              "0.010\n",
              "</td>\n",
              "</tr>\n",
              "</table>\n"
            ]
          },
          "metadata": {}
        }
      ],
      "execution_count": 28,
      "metadata": {
        "collapsed": false,
        "outputHidden": false,
        "inputHidden": false
      }
    },
    {
      "cell_type": "markdown",
      "source": [
        "To see the matrices as Python objects, use `pprint`:"
      ],
      "metadata": {
        "collapsed": false,
        "outputHidden": false,
        "inputHidden": false
      }
    },
    {
      "cell_type": "code",
      "source": [
        "pprint(m.matrix(correlation=True))  # correlation matrix as before\n",
        "pprint(m.matrix())  # covariance matrix"
      ],
      "outputs": [
        {
          "output_type": "stream",
          "name": "stdout",
          "text": [
            "[(1.0, -0.8429272368219684), (-0.8429272368219684, 1.0)]\n",
            "[(0.003454545587261548, -0.004909091141560154),\n",
            " (-0.004909091141560154, 0.0098181822218111)]\n"
          ]
        }
      ],
      "execution_count": 29,
      "metadata": {}
    },
    {
      "cell_type": "markdown",
      "source": [
        "If you want the matrix as a numpy array (useful for error propagation), use the `np_` methods:"
      ],
      "metadata": {}
    },
    {
      "cell_type": "code",
      "source": [
        "pprint(m.np_matrix())  # m.np_matrix(correlation=True) also works"
      ],
      "outputs": [
        {
          "output_type": "stream",
          "name": "stdout",
          "text": [
            "array([[ 0.00345455, -0.00490909],\n",
            "       [-0.00490909,  0.00981818]])\n"
          ]
        }
      ],
      "execution_count": 30,
      "metadata": {}
    },
    {
      "cell_type": "markdown",
      "source": [
        "### Minos for non-parabolic minima\n",
        "\n",
        "Minuits other algorithm to compute uncertainties is Minos. It implements the so-called profile likelihood method, where the neighborhood around the function minimum is scanned until the contour is found where the function increase by the value of `errordef`. The contour defines a confidence region that approximately covers the true parameter point with a certain confidence. The contour is exact in the limit of infinitely large data samples and approximate for the finite case (although the approximation is usually very good). Please consult a textbook about statistics about the mathematical details.\n",
        "\n",
        "Minos provides a better answer than Hesse, if the neighborhood around the minimum is very different from a hyperparabola (e.g. banana shaped), but it takes much much longer to compute.\n",
        "\n",
        "Pros:\n",
        "- Good for functions which are not very close to a hyper-parabola around the minimum\n",
        "- Produces pretty confidence regions for scientific plots\n",
        "\n",
        "Cons:\n",
        "- Takes really long time but give the correct error(unless it fails).\n",
        "- Result is difficult to error-propagate, since it cannot be described by a covariance matrix\n",
        "\nMinos is not automatically called during minimization, it needs to be called explicitly afterwards, like so:"
      ],
      "metadata": {}
    },
    {
      "cell_type": "code",
      "source": [
        "m.minos()"
      ],
      "outputs": [
        {
          "output_type": "execute_result",
          "execution_count": 31,
          "data": {
            "text/plain": [
              "MErrors([('a',\n",
              "          MError(name='a', is_valid=True, lower=-0.05877538136452026, upper=0.058775381364531906, lower_valid=True, upper_valid=True, at_lower_limit=False, at_upper_limit=False, at_lower_max_fcn=False, at_upper_max_fcn=False, lower_new_min=False, upper_new_min=False, nfcn=12, min=0.9909664415272668)),\n",
              "         ('b',\n",
              "          MError(name='b', is_valid=True, lower=-0.09908673886136363, upper=0.09908673886138124, lower_valid=True, upper_valid=True, at_lower_limit=False, at_upper_limit=False, at_lower_max_fcn=False, at_upper_max_fcn=False, lower_new_min=False, upper_new_min=False, nfcn=12, min=1.9449447037454457))])"
            ],
            "text/html": [
              "<table>\n",
              "<tr>\n",
              "<th title=\"Parameter name\">\n",
              "a\n",
              "</th>\n",
              "<td style=\"background-color:#92CCA6;\" colspan=\"2\" align=\"center\">\n",
              "Valid\n",
              "</td>\n",
              "</tr>\n",
              "<tr>\n",
              "<td title=\"Lower and upper minos error of the parameter\">\n",
              "Error\n",
              "</td>\n",
              "<td>\n",
              "-0.06\n",
              "</td>\n",
              "<td>\n",
              "0.06\n",
              "</td>\n",
              "</tr>\n",
              "<tr>\n",
              "<td title=\"Validity of lower/upper minos error\">\n",
              "Valid\n",
              "</td>\n",
              "<td style=\"background-color:#92CCA6;\">\n",
              "True\n",
              "</td>\n",
              "<td style=\"background-color:#92CCA6;\">\n",
              "True\n",
              "</td>\n",
              "</tr>\n",
              "<tr>\n",
              "<td title=\"Did scan hit limit of any parameter?\">\n",
              "At Limit\n",
              "</td>\n",
              "<td style=\"background-color:#92CCA6;\">\n",
              "False\n",
              "</td>\n",
              "<td style=\"background-color:#92CCA6;\">\n",
              "False\n",
              "</td>\n",
              "</tr>\n",
              "<tr>\n",
              "<td title=\"Did scan hit function call limit?\">\n",
              "Max FCN\n",
              "</td>\n",
              "<td style=\"background-color:#92CCA6;\">\n",
              "False\n",
              "</td>\n",
              "<td style=\"background-color:#92CCA6;\">\n",
              "False\n",
              "</td>\n",
              "</tr>\n",
              "<tr>\n",
              "<td title=\"New minimum found when doing scan?\">\n",
              "New Min\n",
              "</td>\n",
              "<td style=\"background-color:#92CCA6;\">\n",
              "False\n",
              "</td>\n",
              "<td style=\"background-color:#92CCA6;\">\n",
              "False\n",
              "</td>\n",
              "</tr>\n",
              "</table>\n",
              "\n",
              "<table>\n",
              "<tr>\n",
              "<th title=\"Parameter name\">\n",
              "b\n",
              "</th>\n",
              "<td style=\"background-color:#92CCA6;\" colspan=\"2\" align=\"center\">\n",
              "Valid\n",
              "</td>\n",
              "</tr>\n",
              "<tr>\n",
              "<td title=\"Lower and upper minos error of the parameter\">\n",
              "Error\n",
              "</td>\n",
              "<td>\n",
              "-0.10\n",
              "</td>\n",
              "<td>\n",
              "0.10\n",
              "</td>\n",
              "</tr>\n",
              "<tr>\n",
              "<td title=\"Validity of lower/upper minos error\">\n",
              "Valid\n",
              "</td>\n",
              "<td style=\"background-color:#92CCA6;\">\n",
              "True\n",
              "</td>\n",
              "<td style=\"background-color:#92CCA6;\">\n",
              "True\n",
              "</td>\n",
              "</tr>\n",
              "<tr>\n",
              "<td title=\"Did scan hit limit of any parameter?\">\n",
              "At Limit\n",
              "</td>\n",
              "<td style=\"background-color:#92CCA6;\">\n",
              "False\n",
              "</td>\n",
              "<td style=\"background-color:#92CCA6;\">\n",
              "False\n",
              "</td>\n",
              "</tr>\n",
              "<tr>\n",
              "<td title=\"Did scan hit function call limit?\">\n",
              "Max FCN\n",
              "</td>\n",
              "<td style=\"background-color:#92CCA6;\">\n",
              "False\n",
              "</td>\n",
              "<td style=\"background-color:#92CCA6;\">\n",
              "False\n",
              "</td>\n",
              "</tr>\n",
              "<tr>\n",
              "<td title=\"New minimum found when doing scan?\">\n",
              "New Min\n",
              "</td>\n",
              "<td style=\"background-color:#92CCA6;\">\n",
              "False\n",
              "</td>\n",
              "<td style=\"background-color:#92CCA6;\">\n",
              "False\n",
              "</td>\n",
              "</tr>\n",
              "</table>\n"
            ]
          },
          "metadata": {}
        }
      ],
      "execution_count": 31,
      "metadata": {}
    },
    {
      "cell_type": "markdown",
      "source": [
        "By now you are used to this nice output for your notebook. Green colors indicate that Minos ran successful. The fields in the table mean the following:\n",
        "- At Limit: Whether Minos hit a parameter limit before the finishing the contour.\n",
        "- Max FCN: Whether Minos reached the maximum number of allowed calls before finishing the contour.\n",
        "- New Min: Whether Minos discovered a deeper local minimum in the neighborhood of the current one.\n",
        "\nThe errors computed by Minos are now also shown in the parameter list:"
      ],
      "metadata": {}
    },
    {
      "cell_type": "code",
      "source": [
        "m.get_param_states()"
      ],
      "outputs": [
        {
          "output_type": "execute_result",
          "execution_count": 32,
          "data": {
            "text/plain": [
              "[Param(index=0, name='a', value=0.9909664415272668, error=0.05877538249353676, is_const=False, is_fixed=False, has_limits=False, has_lower_limit=False, has_upper_limit=False, lower_limit=None, upper_limit=None),\n",
              " Param(index=1, name='b', value=1.9449447037454457, error=0.09908674089811967, is_const=False, is_fixed=False, has_limits=False, has_lower_limit=False, has_upper_limit=False, lower_limit=None, upper_limit=None)]"
            ],
            "text/html": [
              "<table>\n",
              "<tr style=\"background-color:#F4F4F4;\">\n",
              "<td/>\n",
              "<th title=\"Variable name\">\n",
              "Name\n",
              "</th>\n",
              "<th title=\"Value of parameter\">\n",
              "Value\n",
              "</th>\n",
              "<th title=\"Hesse error\">\n",
              "Hesse Error\n",
              "</th>\n",
              "<th title=\"Minos lower error\">\n",
              "Minos Error-\n",
              "</th>\n",
              "<th title=\"Minos upper error\">\n",
              "Minos Error+\n",
              "</th>\n",
              "<th title=\"Lower limit of the parameter\">\n",
              "Limit-\n",
              "</th>\n",
              "<th title=\"Upper limit of the parameter\">\n",
              "Limit+\n",
              "</th>\n",
              "<th title=\"Is the parameter fixed in the fit\">\n",
              "Fixed\n",
              "</th>\n",
              "</tr>\n",
              "<tr style=\"background-color:#FFFFFF;\">\n",
              "<td>\n",
              "0\n",
              "</td>\n",
              "<td>\n",
              "a\n",
              "</td>\n",
              "<td>\n",
              "0.99\n",
              "</td>\n",
              "<td>\n",
              "0.06\n",
              "</td>\n",
              "<td>\n",
              "-0.06\n",
              "</td>\n",
              "<td>\n",
              "0.06\n",
              "</td>\n",
              "<td>\n",
              "\n",
              "</td>\n",
              "<td>\n",
              "\n",
              "</td>\n",
              "<td>\n",
              "\n",
              "</td>\n",
              "</tr>\n",
              "<tr style=\"background-color:#F4F4F4;\">\n",
              "<td>\n",
              "1\n",
              "</td>\n",
              "<td>\n",
              "b\n",
              "</td>\n",
              "<td>\n",
              "1.94\n",
              "</td>\n",
              "<td>\n",
              "0.10\n",
              "</td>\n",
              "<td>\n",
              "-0.10\n",
              "</td>\n",
              "<td>\n",
              "0.10\n",
              "</td>\n",
              "<td>\n",
              "\n",
              "</td>\n",
              "<td>\n",
              "\n",
              "</td>\n",
              "<td>\n",
              "\n",
              "</td>\n",
              "</tr>\n",
              "</table>\n"
            ]
          },
          "metadata": {}
        }
      ],
      "execution_count": 32,
      "metadata": {}
    },
    {
      "cell_type": "markdown",
      "source": [
        "If the absolute values of the Minos errors are very close to the Hesse Error, the function is well approximated by a hyperparabola around the minimum. You can use this as a check instead of explicitly plotting the function around the minimum (for which we provide tools, see below)."
      ],
      "metadata": {}
    },
    {
      "cell_type": "markdown",
      "source": [
        "## Quick access to fit results\n",
        "\nIf working with the dicts returned by `Minuit.migrad` and `Minuit.minos` is not your thing, you can also get the fit results with properties and methods. There are many, please check the reference of `Minuit`. Here are the most important ones:"
      ],
      "metadata": {}
    },
    {
      "cell_type": "code",
      "source": [
        "pprint(m.values)  # dict-like view of the parameter values\n",
        "# access values by name or index\n",
        "pprint(\"by name\")\n",
        "pprint(m.values[\"a\"])\n",
        "pprint(\"by index\")\n",
        "pprint(m.values[0])\n",
        "\n",
        "# you can also iterate over the view like you would over a dict\n",
        "for key, value in m.values.items():\n",
        "    pprint((key, value))\n",
        "\n",
        "pprint(\"Hesse errors\")\n",
        "pprint(m.errors)  # dict-like view of symmetric uncertainties\n",
        "# you can access errors in the same ways as for m.values\n",
        "\n",
        "pprint(\"Minos errors\")\n",
        "pprint(m.merrors)  # asymmetric uncertainties\n",
        "pprint(\"Hesse covariance\")\n",
        "pprint(m.covariance)  # the covariance matrix computed by Hesse"
      ],
      "outputs": [
        {
          "output_type": "stream",
          "name": "stdout",
          "text": [
            "<ValueView of Minuit at 7fcf91b3ca98>\n",
            "  a: 0.9909664415272668\n",
            "  b: 1.9449447037454457\n",
            "'by name'\n",
            "0.9909664415272668\n",
            "'by index'\n",
            "0.9909664415272668\n",
            "('a', 0.9909664415272668)\n",
            "('b', 1.9449447037454457)\n",
            "'Hesse errors'\n",
            "<ErrorView of Minuit at 7fcf91b3ca98>\n",
            "  a: 0.05877538249353676\n",
            "  b: 0.09908674089811967\n",
            "'Minos errors'\n",
            "{('a', -1.0): -0.05877538136452026,\n",
            " ('a', 1.0): 0.058775381364531906,\n",
            " ('b', -1.0): -0.09908673886136363,\n",
            " ('b', 1.0): 0.09908673886138124}\n",
            "'Hesse covariance'\n",
            "{('a', 'a'): 0.003454545587261548,\n",
            " ('a', 'b'): -0.004909091141560154,\n",
            " ('b', 'a'): -0.004909091141560154,\n",
            " ('b', 'b'): 0.0098181822218111}\n"
          ]
        }
      ],
      "execution_count": 33,
      "metadata": {}
    },
    {
      "cell_type": "markdown",
      "source": [
        "Note that you can play around with iminuit by assigning new values to `m.values` and `m.errors`. The values will be used as a starting point when you call `m.migrad()` again.\n",
        "\nThere are also corresponding methods that return numpy arrays, convenient if you use numpy functions. Note that these methods create copies. The numpy arrays are not views like the attributes. Changing the values of the numpy array does not change the state that `Minuit` sees."
      ],
      "metadata": {}
    },
    {
      "cell_type": "code",
      "source": [
        "# note these are methods and not a properties\n",
        "pprint(m.np_values())\n",
        "pprint(m.np_errors())\n",
        "pprint(m.np_merrors())\n",
        "pprint(m.np_covariance())"
      ],
      "outputs": [
        {
          "output_type": "stream",
          "name": "stdout",
          "text": [
            "array([0.99096644, 1.9449447 ])\n",
            "array([0.05877538, 0.09908674])\n",
            "array([[0.05877538, 0.09908674],\n",
            "       [0.05877538, 0.09908674]])\n",
            "array([[ 0.00345455, -0.00490909],\n",
            "       [-0.00490909,  0.00981818]])\n"
          ]
        }
      ],
      "execution_count": 34,
      "metadata": {
        "scrolled": false
      }
    },
    {
      "cell_type": "markdown",
      "source": [
        "The layout for most of these is straight-forward, but for `Minuit.np_merrors()` it is different. The layout returned by `Minuit.np_merrors()` follows the convention `[abs(delta_down), delta_up]` that is used by `matplotlib.pyplot.errorbar`. This makes passing Hesse and Minos errors to matplotlib straight-forward. You can see an example here:"
      ],
      "metadata": {}
    },
    {
      "cell_type": "code",
      "source": [
        "v = m.np_values()\n",
        "ve = m.np_errors()\n",
        "vm = m.np_merrors()\n",
        "# show hesse errors\n",
        "errorbar((0, 1), v, ve, fmt=\"ob\");\n",
        "# show minos errors\n",
        "errorbar((0.01, 1.01), v, vm, fmt=\"or\"); # add a little offset so that the error bars don't overlap\n",
        "xlabel(\"parameter index\")\n",
        "xticks((0, 1))\n",
        "xlim(-0.1, 1.1);"
      ],
      "outputs": [
        {
          "output_type": "display_data",
          "data": {
            "text/plain": [
              "<Figure size 432x288 with 1 Axes>"
            ],
            "image/png": "[encoded data removed]"
          },
          "metadata": {
            "needs_background": "light"
          }
        }
      ],
      "execution_count": 35,
      "metadata": {}
    },
    {
      "cell_type": "markdown",
      "source": [
        "## Plotting\n",
        "\niminuit comes with buildin methods to draw the contours, like so:"
      ],
      "metadata": {}
    },
    {
      "cell_type": "code",
      "source": [
        "m.draw_mncontour('a','b', nsigma=4);  # nsigma=4 says: draw four contours from sigma=1 to 4"
      ],
      "outputs": [
        {
          "output_type": "display_data",
          "data": {
            "text/plain": [
              "<Figure size 432x288 with 1 Axes>"
            ],
            "image/png": "[encoded data removed]"
          },
          "metadata": {
            "needs_background": "light"
          }
        }
      ],
      "execution_count": 36,
      "metadata": {}
    },
    {
      "cell_type": "code",
      "source": [
        "# get individual minos contours for plotting them yourself\n",
        "param_a, param_b, ctr_xy = m.mncontour('a','b', sigma=2)\n",
        "pprint(ctr_xy)"
      ],
      "outputs": [
        {
          "output_type": "stream",
          "name": "stdout",
          "text": [
            "[(0.8734156787982194, 2.1119905244655923),\n",
            " (0.8824239281811733, 2.0582549073935645),\n",
            " (0.8999995907730525, 2.0066820348391534),\n",
            " (0.9218435068100065, 1.9569310517835712),\n",
            " (0.9468999238515619, 1.9087180561510038),\n",
            " (0.9750759205046066, 1.8618818581214405),\n",
            " (1.0065114362059702, 1.8171680505688939),\n",
            " (1.0428579642045699, 1.775532427960336),\n",
            " (1.0642095274128394, 1.7574662169785074),\n",
            " (1.090053180388609, 1.7467712260227068),\n",
            " (1.1085172042563223, 1.77789888252932),\n",
            " (1.099508954984477, 1.8316344996970808),\n",
            " (1.0819332924061547, 1.8832073723364517),\n",
            " (1.0600893763599784, 1.9329583554671692),\n",
            " (1.0350329592976528, 1.981171351170653),\n",
            " (1.0068569626156654, 2.028007549267934),\n",
            " (0.9754214468778168, 2.0727213568839993),\n",
            " (0.9390749188272809, 2.1143569795526957),\n",
            " (0.9177233555789281, 2.132423190556252),\n",
            " (0.8918797025367042, 2.1431181814681968)]\n"
          ]
        }
      ],
      "execution_count": 37,
      "metadata": {}
    },
    {
      "cell_type": "code",
      "source": [
        "# 1D value Scan\n",
        "a, fa = m.profile('a', subtract_min=True)\n",
        "plot(a, fa);"
      ],
      "outputs": [
        {
          "output_type": "display_data",
          "data": {
            "text/plain": [
              "<Figure size 432x288 with 1 Axes>"
            ],
            "image/png": "[encoded data removed]"
          },
          "metadata": {
            "needs_background": "light"
          }
        }
      ],
      "execution_count": 38,
      "metadata": {}
    },
    {
      "cell_type": "code",
      "source": [
        "# we provide a convenience wrapper for drawing it which scans the region around the minimum as well\n",
        "m.draw_profile('a');"
      ],
      "outputs": [
        {
          "output_type": "display_data",
          "data": {
            "text/plain": [
              "<Figure size 432x288 with 1 Axes>"
            ],
            "image/png": "[encoded data removed]"
          },
          "metadata": {
            "needs_background": "light"
          }
        }
      ],
      "execution_count": 39,
      "metadata": {}
    },
    {
      "cell_type": "code",
      "source": [
        "# beware: 2d contour is NOT a Minos contour, these are just contours of the fit function\n",
        "x,y,z = m.contour('a', 'b', subtract_min=True)\n",
        "cs = contour(x,y,z, (1, 2, 3, 4)) # these are not sigmas, just the contour values\n",
        "clabel(cs);"
      ],
      "outputs": [
        {
          "output_type": "display_data",
          "data": {
            "text/plain": [
              "<Figure size 432x288 with 1 Axes>"
            ],
            "image/png": "[encoded data removed]"
          },
          "metadata": {
            "needs_background": "light"
          }
        }
      ],
      "execution_count": 40,
      "metadata": {}
    },
    {
      "cell_type": "code",
      "source": [
        "# convenience wrapper\n",
        "m.draw_contour('a', 'b');"
      ],
      "outputs": [
        {
          "output_type": "display_data",
          "data": {
            "text/plain": [
              "<Figure size 432x288 with 1 Axes>"
            ],
            "image/png": "[encoded data removed]"
          },
          "metadata": {
            "needs_background": "light"
          }
        }
      ],
      "execution_count": 41,
      "metadata": {}
    }
  ],
  "metadata": {
    "kernelspec": {
      "name": "python3",
      "language": "python",
      "display_name": "Python 3"
    },
    "language_info": {
      "name": "python",
      "version": "3.7.2",
      "mimetype": "text/x-python",
      "codemirror_mode": {
        "name": "ipython",
        "version": 3
      },
      "pygments_lexer": "ipython3",
      "nbconvert_exporter": "python",
      "file_extension": ".py"
    },
    "kernel_info": {
      "name": "python3"
    },
    "nteract": {
      "version": "0.12.3"
    }
  },
  "nbformat": 4,
  "nbformat_minor": 1
}